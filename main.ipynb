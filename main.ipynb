{
 "cells": [
  {
   "cell_type": "code",
   "execution_count": null,
   "id": "15ba0de7",
   "metadata": {},
   "outputs": [],
   "source": [
    "# Step 1 Data Exploration\n",
    "import pandas as pd\n"
   ]
  },
  {
   "cell_type": "code",
   "execution_count": null,
   "id": "cc8b33df",
   "metadata": {},
   "outputs": [],
   "source": [
    "# Convert the CSV file to a DataFrame (Data Processing)\n",
    "df = pd.read_csv('digital_wallet_ltv_dataset.csv', encoding_errors='ignore')\n",
    "\n",
    "# Display the structure of the DataFrame\n",
    "df.shape # (rows, columns)"
   ]
  },
  {
   "cell_type": "code",
   "execution_count": null,
   "id": "b96e3cd8",
   "metadata": {},
   "outputs": [],
   "source": [
    "# Display first 5 rows\n",
    "df.head() "
   ]
  },
  {
   "cell_type": "code",
   "execution_count": null,
   "id": "dba48992",
   "metadata": {},
   "outputs": [],
   "source": [
    "# Display column names\n",
    "df.columns"
   ]
  },
  {
   "cell_type": "code",
   "execution_count": null,
   "id": "526a58df",
   "metadata": {},
   "outputs": [],
   "source": [
    "# Display summary of the DataFrame\n",
    "df.info()"
   ]
  },
  {
   "cell_type": "code",
   "execution_count": null,
   "id": "7434054c",
   "metadata": {},
   "outputs": [],
   "source": [
    "# Statistics of the DataFrame\n",
    "df.describe()"
   ]
  },
  {
   "cell_type": "code",
   "execution_count": null,
   "id": "779ca7e2",
   "metadata": {},
   "outputs": [],
   "source": [
    "# Step 2 Data Cleaning\n",
    "df.isnull().sum()  # Check for missing values"
   ]
  },
  {
   "cell_type": "code",
   "execution_count": null,
   "id": "0d54c8a8",
   "metadata": {},
   "outputs": [],
   "source": [
    "# Check and drop duplicates\n",
    "df.duplicated().sum()\n",
    "if df.duplicated().sum() > 0:\n",
    "    df.dropna(inplace=True) # Drop entire rows with missing values"
   ]
  },
  {
   "cell_type": "code",
   "execution_count": null,
   "id": "a935d7d1",
   "metadata": {},
   "outputs": [],
   "source": [
    "# Step 3 Data Transformation\n",
    "# Convert monetary values from rupees to CAD\n",
    "conversion_rate = 0.016  # Example conversion rate from 1 rupees to 0.016 CAD\n",
    "df['Avg_Transaction_Value'] = df['Avg_Transaction_Value'] * conversion_rate\n",
    "df['Total_Spent'] = df['Total_Spent'] * conversion_rate\n",
    "df['Max_Transaction_Value'] = df['Max_Transaction_Value'] * conversion_rate\n",
    "df['Min_Transaction_Value'] = df['Min_Transaction_Value'] * conversion_rate\n",
    "df.head()  # Display first 5 rows after transformation"
   ]
  }
 ],
 "metadata": {
  "kernelspec": {
   "display_name": ".venv",
   "language": "python",
   "name": "python3"
  },
  "language_info": {
   "codemirror_mode": {
    "name": "ipython",
    "version": 3
   },
   "file_extension": ".py",
   "mimetype": "text/x-python",
   "name": "python",
   "nbconvert_exporter": "python",
   "pygments_lexer": "ipython3",
   "version": "3.13.5"
  }
 },
 "nbformat": 4,
 "nbformat_minor": 5
}
